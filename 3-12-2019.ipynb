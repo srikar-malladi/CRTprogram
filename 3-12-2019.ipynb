{
 "cells": [
  {
   "cell_type": "markdown",
   "metadata": {},
   "source": [
    "# Introduction to Python Programing\n",
    "## Day-5(3-12-2019)"
   ]
  },
  {
   "cell_type": "code",
   "execution_count": null,
   "metadata": {},
   "outputs": [],
   "source": [
    "2+3"
   ]
  },
  {
   "cell_type": "code",
   "execution_count": null,
   "metadata": {},
   "outputs": [],
   "source": [
    "print (\"hello python\")"
   ]
  },
  {
   "cell_type": "code",
   "execution_count": null,
   "metadata": {},
   "outputs": [],
   "source": [
    "print(\"welcome to python programing\")\n",
    "print(\"welcome to jupyter notr book\")"
   ]
  },
  {
   "cell_type": "code",
   "execution_count": null,
   "metadata": {},
   "outputs": [],
   "source": [
    "x=1002365478932\n",
    "print(x)"
   ]
  },
  {
   "cell_type": "markdown",
   "metadata": {},
   "source": [
    "## Insert a Image\n",
    "![text](data:image/jpeg;base64,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)"
   ]
  },
  {
   "cell_type": "markdown",
   "metadata": {},
   "source": [
    "## insert a site\n",
    "[my site](https://sites.google.com/view/gitam-hyd-221710404032-nov2019/home)"
   ]
  },
  {
   "cell_type": "markdown",
   "metadata": {},
   "source": [
    "### for creating ordered list\n",
    "#### 1.abc\n",
    "    1.a\n",
    "    2.b\n",
    "    3.c\n",
    "#### |2.def\n",
    "    1.d\n",
    "    2.e\n",
    "    3.f"
   ]
  },
  {
   "cell_type": "markdown",
   "metadata": {},
   "source": [
    "### ** bold and single* italic text\n",
    "**gitam**<br>\n",
    "*gitam*"
   ]
  },
  {
   "cell_type": "markdown",
   "metadata": {},
   "source": [
    "### input and output\n",
    "### variables\n",
    "### numbers,boolean\n",
    "### string"
   ]
  },
  {
   "cell_type": "code",
   "execution_count": null,
   "metadata": {},
   "outputs": [],
   "source": [
    "print(\"hello world\")"
   ]
  },
  {
   "cell_type": "code",
   "execution_count": null,
   "metadata": {},
   "outputs": [],
   "source": [
    "# variable creation\n",
    "a=10\n",
    "b=10\n",
    "print(a+b)"
   ]
  },
  {
   "cell_type": "code",
   "execution_count": null,
   "metadata": {},
   "outputs": [],
   "source": [
    "name = \"Gitam\"\n",
    "print(\"university:\"+ name)"
   ]
  },
  {
   "cell_type": "code",
   "execution_count": null,
   "metadata": {},
   "outputs": [],
   "source": [
    "name =input(\"enter a name\")\n",
    "age = int(input(\"enter age\"))\n",
    "print(\"my name is:\",name)\n",
    "print(\"my age is:\",age)"
   ]
  },
  {
   "cell_type": "markdown",
   "metadata": {},
   "source": [
    "## Take Two Inputs and do the following arithmatic operations\n",
    "#### add, sub, mul, div"
   ]
  },
  {
   "cell_type": "code",
   "execution_count": null,
   "metadata": {},
   "outputs": [],
   "source": [
    "a = int(input(\" enter the value of a \"))\n",
    "b = int(input(\" enter the value of b \"))\n",
    "c = a+b\n",
    "d = a-b\n",
    "e = a*b\n",
    "f = a/b\n",
    "print(c)\n",
    "print(d)\n",
    "print(e)\n",
    "print(f)"
   ]
  },
  {
   "cell_type": "code",
   "execution_count": null,
   "metadata": {},
   "outputs": [],
   "source": [
    "a\n"
   ]
  },
  {
   "cell_type": "markdown",
   "metadata": {},
   "source": [
    "### fundamental data types\n",
    "1. int\n",
    "2. float\n",
    "3. complex\n",
    "4. boolean\n",
    "5. string"
   ]
  },
  {
   "cell_type": "code",
   "execution_count": null,
   "metadata": {},
   "outputs": [],
   "source": [
    "a = 10\n",
    "b = 12.5\n",
    "c = 5+5j\n",
    "d = \"python\"\n",
    "print(type(a),type(b),type(c),type(d))"
   ]
  },
  {
   "cell_type": "code",
   "execution_count": null,
   "metadata": {},
   "outputs": [],
   "source": [
    "c = complex(3,4)\n",
    "print(c)"
   ]
  },
  {
   "cell_type": "code",
   "execution_count": null,
   "metadata": {},
   "outputs": [],
   "source": [
    "c1 = 3+5j\n",
    "c2 = 6+7j\n",
    "print(c1+c2)\n",
    "print(c1-c2)\n",
    "print(c1*c2)\n",
    "print(c1/c2)"
   ]
  },
  {
   "cell_type": "code",
   "execution_count": null,
   "metadata": {},
   "outputs": [],
   "source": [
    "## boolean\n",
    "a = 10\n",
    "b = 20\n",
    "a<b"
   ]
  },
  {
   "cell_type": "code",
   "execution_count": null,
   "metadata": {},
   "outputs": [],
   "source": [
    "s1 = \"abc\"\n",
    "s2 = \"hdieigigighighihh\"\n",
    "print(type(s1),type(s2))"
   ]
  },
  {
   "cell_type": "code",
   "execution_count": null,
   "metadata": {},
   "outputs": [],
   "source": [
    "s1 = \"100\"\n",
    "print(type(s1))\n",
    "a = int(s1)\n",
    "print(type(s1))\n",
    "f = 1.5698745632145752\n",
    "a1 = int(f)\n",
    "print(type(a1))\n",
    "print(a1)"
   ]
  },
  {
   "cell_type": "code",
   "execution_count": null,
   "metadata": {},
   "outputs": [],
   "source": [
    "s1 = \"100\"\n",
    "print(type(s1))\n",
    "a = int(s1)\n",
    "print(type(s1))\n",
    "f = 1.5698745632145752\n",
    "a1 = f\n",
    "print(type(a1))\n",
    "print(a1)"
   ]
  },
  {
   "cell_type": "code",
   "execution_count": null,
   "metadata": {},
   "outputs": [],
   "source": [
    "a1 = 123456987\n",
    "print(len(str(a1)))"
   ]
  },
  {
   "cell_type": "markdown",
   "metadata": {},
   "source": [
    "## operators:-\n",
    "1. arithmetic---> +,-,/,%, * ,**,//\n",
    "2. logical operations--->and,or,not\n",
    "3. relational opertions---> <,>,<=,=>,==,!=\n",
    "4. membership operations---> in,not in"
   ]
  },
  {
   "cell_type": "code",
   "execution_count": null,
   "metadata": {},
   "outputs": [],
   "source": [
    "a"
   ]
  },
  {
   "cell_type": "code",
   "execution_count": null,
   "metadata": {},
   "outputs": [],
   "source": [
    "a = 12\n",
    "b = 11\n",
    "print(a//b)\n",
    "print(a**b)\n",
    "print(a%b)\n"
   ]
  },
  {
   "cell_type": "code",
   "execution_count": null,
   "metadata": {},
   "outputs": [],
   "source": [
    "# relationsl operations\n",
    "print(a==b)\n",
    "print(a!=b)\n",
    "print(a<b)\n",
    "print(a>b)"
   ]
  },
  {
   "cell_type": "code",
   "execution_count": null,
   "metadata": {},
   "outputs": [],
   "source": [
    "#logical operations\n",
    "print(a>=10 and b<=20)\n",
    "print(a>=10 or b<=20)\n",
    "print(not a)"
   ]
  },
  {
   "cell_type": "markdown",
   "metadata": {},
   "source": [
    "## problem on relational operators\n",
    "### take two numbers and do the following operations\n",
    "#### >,<,==,!=,<=,>="
   ]
  },
  {
   "cell_type": "code",
   "execution_count": null,
   "metadata": {},
   "outputs": [],
   "source": [
    "x = 256\n",
    "y = 556\n",
    "print(x>y)\n",
    "print(x<y)\n",
    "print(x==y)\n",
    "print(x>=y)\n",
    "print(x<=y)\n",
    "print(x!=y)"
   ]
  },
  {
   "cell_type": "markdown",
   "metadata": {},
   "source": [
    "## Membership Operations\n",
    " * in -- true if value is found on sequence\n",
    " * not in-- true if value not found in sequence"
   ]
  },
  {
   "cell_type": "code",
   "execution_count": null,
   "metadata": {},
   "outputs": [],
   "source": [
    "f = [1,2,3,4,5]\n",
    "print(1 in f)\n",
    "print(5 in f)\n",
    "print(8 in f)\n",
    "print(13 not in f)"
   ]
  },
  {
   "cell_type": "markdown",
   "metadata": {},
   "source": [
    "## Conditional Statements\n",
    "\n",
    " 1.if\n",
    " \n",
    " 2.else\n",
    " \n",
    " 3.elif\n",
    "## syntax\n",
    "##### if condition\n",
    "> statements<br>\n",
    "#### else condition\n",
    "> statements"
   ]
  },
  {
   "cell_type": "markdown",
   "metadata": {},
   "source": [
    "## to check even or odd"
   ]
  },
  {
   "cell_type": "code",
   "execution_count": null,
   "metadata": {},
   "outputs": [],
   "source": [
    "n= int (input(\"enter a number\"))\n",
    "if n%2 == 0:\n",
    "    print(\"even\")\n",
    "else:\n",
    "    print(\"odd\")"
   ]
  },
  {
   "cell_type": "markdown",
   "metadata": {},
   "source": [
    "## to check given number is multiple of 3and 5"
   ]
  },
  {
   "cell_type": "code",
   "execution_count": 7,
   "metadata": {},
   "outputs": [
    {
     "name": "stdout",
     "output_type": "stream",
     "text": [
      "enter a number 9\n",
      "number is a multiple of 3 not 5\n"
     ]
    }
   ],
   "source": [
    "n = int(input(\"enter a number \"))\n",
    "if n%3 == 0 and n%5 == 0:\n",
    "    print(\"number is multiple of 3 and 5\")\n",
    "elif n%3==0 and n%5!=0:\n",
    "    print(\"number is a multiple of 3 not 5\")\n",
    "elif n%3!=0 and n%5 == 0:\n",
    "    print(\"number is multiple of 5 not 3\")\n",
    "else:\n",
    "    print(\"number is not multiple of 3 and 5\")\n",
    "        "
   ]
  },
  {
   "cell_type": "markdown",
   "metadata": {},
   "source": [
    "## check given no os positive,negativeor zero"
   ]
  },
  {
   "cell_type": "code",
   "execution_count": 5,
   "metadata": {},
   "outputs": [
    {
     "name": "stdout",
     "output_type": "stream",
     "text": [
      "enter a number-6\n",
      "-ve\n"
     ]
    }
   ],
   "source": [
    "a = int(input(\"enter a number\"))\n",
    "if a>0:\n",
    "        print(\"+ve\")\n",
    "elif a<0:\n",
    "        print(\"-ve\")\n",
    "else:\n",
    "        print(\"zero\")"
   ]
  },
  {
   "cell_type": "markdown",
   "metadata": {},
   "source": [
    "## chech the year is leap year or not"
   ]
  },
  {
   "cell_type": "code",
   "execution_count": 16,
   "metadata": {},
   "outputs": [
    {
     "name": "stdout",
     "output_type": "stream",
     "text": [
      "enter the year 2100\n",
      "given year is not a leap year\n"
     ]
    }
   ],
   "source": [
    "z = int(input(\"enter the year \"))\n",
    "if z % 400 ==0 or (z % 100 !=0 and z % 4 ==0):\n",
    "    print(\"given year is leap year\")\n",
    "else:\n",
    "    print(\"given year is not a leap year\")"
   ]
  },
  {
   "cell_type": "markdown",
   "metadata": {},
   "source": [
    "## loops\n",
    "#### while\n",
    "#### do while\n",
    "#### for"
   ]
  },
  {
   "cell_type": "code",
   "execution_count": 18,
   "metadata": {},
   "outputs": [
    {
     "name": "stdout",
     "output_type": "stream",
     "text": [
      "enter a number6\n",
      "1           2           3           4           5           6           "
     ]
    }
   ],
   "source": [
    "# print no from 1-n\n",
    "n = int(input(\"enter a number\"))\n",
    "i = 1\n",
    "while i<=n:\n",
    "    print(i,end=\"           \")\n",
    "    i=i+1"
   ]
  },
  {
   "cell_type": "code",
   "execution_count": 22,
   "metadata": {},
   "outputs": [
    {
     "name": "stdout",
     "output_type": "stream",
     "text": [
      "enter a number10\n",
      "30\n"
     ]
    }
   ],
   "source": [
    "n= int(input(\"enter a number\"))\n",
    "i = 1\n",
    "s = 0\n",
    "while i<=n:\n",
    "    if i% 2 == 0:\n",
    "        s = s + i\n",
    "    i = i+1\n",
    "print(s)"
   ]
  },
  {
   "cell_type": "code",
   "execution_count": null,
   "metadata": {},
   "outputs": [],
   "source": []
  }
 ],
 "metadata": {
  "kernelspec": {
   "display_name": "Python 3",
   "language": "python",
   "name": "python3"
  },
  "language_info": {
   "codemirror_mode": {
    "name": "ipython",
    "version": 3
   },
   "file_extension": ".py",
   "mimetype": "text/x-python",
   "name": "python",
   "nbconvert_exporter": "python",
   "pygments_lexer": "ipython3",
   "version": "3.7.3"
  }
 },
 "nbformat": 4,
 "nbformat_minor": 2
}
